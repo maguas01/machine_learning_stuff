{
 "cells": [
  {
   "cell_type": "markdown",
   "metadata": {},
   "source": [
    "## Naives Bayes \n",
    "\n",
    "- prior : all that can be infered about a situation\n",
    "- posterior : an inference made after gaining new information\n",
    "- bayes theorem: is about the probability about some event $P(A)$ we introduce some event that is related to A $P(R|A)$ bayes theorem infers the probability of A given R $P(A|R)$\n",
    "\n",
    ".6, prob that brenda did not wear red is .4 we can put these together and get\n",
    "\n",
    "![bayes0](img/bayes0.png)\n",
    "\n",
    "![](img/bayes1.png)\n"
   ]
  },
  {
   "cell_type": "code",
   "execution_count": null,
   "metadata": {},
   "outputs": [],
   "source": []
  }
 ],
 "metadata": {
  "kernelspec": {
   "display_name": "Python 2",
   "language": "python",
   "name": "python2"
  },
  "language_info": {
   "codemirror_mode": {
    "name": "ipython",
    "version": 2
   },
   "file_extension": ".py",
   "mimetype": "text/x-python",
   "name": "python",
   "nbconvert_exporter": "python",
   "pygments_lexer": "ipython2",
   "version": "2.7.15"
  }
 },
 "nbformat": 4,
 "nbformat_minor": 2
}
