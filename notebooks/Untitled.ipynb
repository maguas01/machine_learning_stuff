{
 "cells": [
  {
   "cell_type": "markdown",
   "metadata": {},
   "source": [
    "## Naives Bayes \n",
    "\n",
    "- prior : all that can be infered about a situation\n",
    "- posterior : an inference made after gaining new information\n",
    "- bayes theorem: is about the probability about some event $P(A)$ we introduce some event that is related to A $P(R|A)$ bayes theorem infers the probability of A given R $P(A|R)$\n",
    "\n",
    ".6, prob that brenda did not wear red is .4 we can put these together and get\n",
    "\n",
    "![bayes0](img/bayes0.png)\n",
    "\n",
    "![](img/bayes1.png)\n",
    "\n",
    "## Naive Bayes Example\n",
    "- this theorem is best explained using an example. \n",
    "![](img/bayes2.png)\n",
    "\n",
    "\n",
    "supposed we have recieved these emails 3 spam and 5 not spam, call the not spam ham. \n",
    "we can figure out the probability of an email being spam $P(spam) =\\frac{3}{8}$ and ham $P(ham) =\\frac{5}{8}$. \n",
    "\n",
    "now we look at the spam emails $\\frac{1}{3}$ of them have the word 'easy' in them and th rest dont, so $\\frac{2}{3}$ next we can figure out the probability that an email is spam given it containts the word 'easy' $P(spam|'easy')=\\frac{1}{3}*\\frac{3}{8}=\\frac{1}{8}$ and $P(spam|'easy'^c)=\\frac{2}{3}*\\frac{3}{8}=\\frac{1}{4}$\n",
    "we do the same for ham $\\frac{1}{5}$ contained the word 'easy' and $\\frac{4}{5}$ did not contain the word 'easy' and were ham, we get that $P(ham|'easy') = \\frac{5}{8}*\\frac{1}{5}=\\frac{1}{8}$ and $P(ham|'easy'^c) = \\frac{5}{8}*\\frac{4}{5}=\\frac{1}{2}$\n",
    "\n",
    "we can do the same for the word money $P(spam|'money')= \\frac{1}{4}$,  $P(spam|'money'^c) = \\frac{1}{4}$, $P(spam|'money')= \\frac{1}{8}$ and $P(ham|'money'^c)= \\frac{1}{2}$\n",
    "\n",
    "these are things we know spam emails that contain the word 'easy' or 'money'. We wish to infer if an email contains the word 'easy' or 'money' is it spam.\n"
   ]
  },
  {
   "cell_type": "code",
   "execution_count": null,
   "metadata": {},
   "outputs": [],
   "source": []
  }
 ],
 "metadata": {
  "kernelspec": {
   "display_name": "Python 2",
   "language": "python",
   "name": "python2"
  },
  "language_info": {
   "codemirror_mode": {
    "name": "ipython",
    "version": 2
   },
   "file_extension": ".py",
   "mimetype": "text/x-python",
   "name": "python",
   "nbconvert_exporter": "python",
   "pygments_lexer": "ipython2",
   "version": "2.7.15"
  }
 },
 "nbformat": 4,
 "nbformat_minor": 2
}
