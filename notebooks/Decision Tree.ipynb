{
 "cells": [
  {
   "cell_type": "markdown",
   "metadata": {},
   "source": [
    "## Decision Trees\n",
    "![dtree](img/d_tree.png)\n",
    "\n",
    "- we can create a decision tree from variables. \n",
    "    - In this example we wish to create a decision tree from occupation and genter such that we can try to choose the best recomended app. \n",
    "    - a good strategy is to choose the variable which has the least edges to end . \n",
    "    - here we choose the node occupation as school imidiatly recomends an app pokenmon go\n",
    "    - occupation also leads to work node. The work node leads to the gender variable. \n",
    "    - the gender variable leads to female male node which will help us choose a reconded app. \n"
   ]
  },
  {
   "cell_type": "code",
   "execution_count": null,
   "metadata": {},
   "outputs": [],
   "source": []
  }
 ],
 "metadata": {
  "kernelspec": {
   "display_name": "Python 2",
   "language": "python",
   "name": "python2"
  },
  "language_info": {
   "codemirror_mode": {
    "name": "ipython",
    "version": 2
   },
   "file_extension": ".py",
   "mimetype": "text/x-python",
   "name": "python",
   "nbconvert_exporter": "python",
   "pygments_lexer": "ipython2",
   "version": "2.7.15"
  }
 },
 "nbformat": 4,
 "nbformat_minor": 2
}
