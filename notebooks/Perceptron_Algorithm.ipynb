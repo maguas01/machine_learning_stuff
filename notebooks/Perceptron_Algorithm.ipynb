{
 "cells": [
  {
   "cell_type": "markdown",
   "metadata": {},
   "source": [
    "## perceptron \n",
    "\n",
    "![percep0](img/perceptron_0.png)\n",
    "\n",
    "- prediction accept for scores >=0 otherwise reject\n",
    "- the inputs are x1, x2 test=7 and grades=6, the edges w1 and w2 2 and 1 are the weights, bias unit labels the node "
   ]
  },
  {
   "cell_type": "markdown",
   "metadata": {},
   "source": [
    "## diffrent way to label perceptron\n",
    "\n",
    "![percept1](img/perceptron_1.png)\n",
    "\n",
    "![percept2](img/perceptron_2.png)"
   ]
  },
  {
   "cell_type": "code",
   "execution_count": 1,
   "metadata": {},
   "outputs": [
    {
     "name": "stdout",
     "output_type": "stream",
     "text": [
      "Nice!  You got it all correct.\n",
      "\n",
      "Input 1    Input 2    Linear Combination    Activation Output   Is Correct\n",
      "      0          0                 -1.05                    0          Yes\n",
      "      0          1                 -0.05                    0          Yes\n",
      "      1          0                 -0.05                    0          Yes\n",
      "      1          1                  0.95                    1          Yes\n"
     ]
    }
   ],
   "source": [
    "import pandas as pd\n",
    "\n",
    "# TODO: Set weight1, weight2, and bias\n",
    "weight1 = 1.0\n",
    "weight2 = 1.0\n",
    "bias = -1.05\n",
    "\n",
    "\n",
    "# DON'T CHANGE ANYTHING BELOW\n",
    "# Inputs and outputs\n",
    "test_inputs = [(0, 0), (0, 1), (1, 0), (1, 1)]\n",
    "correct_outputs = [False, False, False, True]\n",
    "outputs = []\n",
    "\n",
    "# Generate and check output\n",
    "for test_input, correct_output in zip(test_inputs, correct_outputs):\n",
    "    linear_combination = weight1 * test_input[0] + weight2 * test_input[1] + bias\n",
    "    output = int(linear_combination >= 0)\n",
    "    is_correct_string = 'Yes' if output == correct_output else 'No'\n",
    "    outputs.append([test_input[0], test_input[1], linear_combination, output, is_correct_string])\n",
    "\n",
    "# Print output\n",
    "num_wrong = len([output[4] for output in outputs if output[4] == 'No'])\n",
    "output_frame = pd.DataFrame(outputs, columns=['Input 1', '  Input 2', '  Linear Combination', '  Activation Output', '  Is Correct'])\n",
    "if not num_wrong:\n",
    "    print('Nice!  You got it all correct.\\n')\n",
    "else:\n",
    "    print('You got {} wrong.  Keep trying!\\n'.format(num_wrong))\n",
    "print(output_frame.to_string(index=False))\n"
   ]
  },
  {
   "cell_type": "code",
   "execution_count": 1,
   "metadata": {},
   "outputs": [
    {
     "name": "stdout",
     "output_type": "stream",
     "text": [
      "Nice!  You got it all correct.\n",
      "\n",
      "Input 1    Input 2    Linear Combination    Activation Output   Is Correct\n",
      "      0          0                   1.0                    1          Yes\n",
      "      0          1                  -1.0                    0          Yes\n",
      "      1          0                   1.0                    1          Yes\n",
      "      1          1                  -1.0                    0          Yes\n"
     ]
    }
   ],
   "source": [
    "import pandas as pd\n",
    "\n",
    "# TODO: Set weight1, weight2, and bias\n",
    "weight1 = 0.0\n",
    "weight2 = -2.0\n",
    "bias = 1.0\n",
    "\n",
    "\n",
    "## rref (0,0,1,1)\n",
    "##      (0,1,1,-1)\n",
    "##      (1,0,1,1)\n",
    "##      (1,1,1,-1)\n",
    "\n",
    "# DON'T CHANGE ANYTHING BELOW\n",
    "# Inputs and outputs\n",
    "test_inputs = [(0, 0), (0, 1), (1, 0), (1, 1)]\n",
    "correct_outputs = [True, False, True, False]\n",
    "outputs = []\n",
    "\n",
    "# Generate and check output\n",
    "for test_input, correct_output in zip(test_inputs, correct_outputs):\n",
    "    linear_combination = weight1 * test_input[0] + weight2 * test_input[1] + bias\n",
    "    output = int(linear_combination >= 0)\n",
    "    is_correct_string = 'Yes' if output == correct_output else 'No'\n",
    "    outputs.append([test_input[0], test_input[1], linear_combination, output, is_correct_string])\n",
    "\n",
    "# Print output\n",
    "num_wrong = len([output[4] for output in outputs if output[4] == 'No'])\n",
    "output_frame = pd.DataFrame(outputs, columns=['Input 1', '  Input 2', '  Linear Combination', '  Activation Output', '  Is Correct'])\n",
    "if not num_wrong:\n",
    "    print('Nice!  You got it all correct.\\n')\n",
    "else:\n",
    "    print('You got {} wrong.  Keep trying!\\n'.format(num_wrong))\n",
    "print(output_frame.to_string(index=False))"
   ]
  },
  {
   "cell_type": "code",
   "execution_count": 20,
   "metadata": {},
   "outputs": [
    {
     "name": "stdout",
     "output_type": "stream",
     "text": [
      "sum-3.0000 \tcount0\n",
      "sum-2.7000 \tcount1\n",
      "sum-2.4000 \tcount2\n",
      "sum-2.1000 \tcount3\n",
      "sum-1.8000 \tcount4\n",
      "sum-1.5000 \tcount5\n",
      "sum-1.2000 \tcount6\n",
      "sum-0.9000 \tcount7\n",
      "sum-0.6000 \tcount8\n",
      "sum-0.3000 \tcount9\n",
      "sum-0.0000 \tcount10\n",
      "[4.1000000000000005, 5.099999999999996, -8.900000000000004, 11]\n"
     ]
    }
   ],
   "source": [
    "# perceptron trick \n",
    "# given the line l = 3*x1 + 4*x2 -10 = 0 we wish to move this line closer \n",
    "# to some point (p,q) if p,q is lives above the line the we can \n",
    "# subtract p *rate to the coeffient of x1 and q*rate to the coefficient of x2\n",
    "# and rate to -10 if the point lives below we add. rate is a small inteverval\n",
    "# we move the line by. we can check if the the line is on or very near p,q\n",
    "# by plugging in p to x1 and q to x2 and adding if he results is very close to \n",
    "# zero then the line l is very close or on p,q\n",
    "\n",
    "def find_points(w1,w2,m,rate, p,q) : \n",
    "    count = 0\n",
    "    while(w1*p + w2*q + m < abs(0.000000000000000001) ) : \n",
    "        print \"sum:{0:.4f} \\tcount{1}\".format((w1*p + w2*q + m), count)\n",
    "        w1 += (p * rate)\n",
    "        w2 += (q * rate)\n",
    "        m += rate\n",
    "        count += 1\n",
    "    return [w1, w2, m, count]\n",
    "results = find_points(3.0,4.0,-10.0,0.1,1.0,1.0)\n",
    "print(results)"
   ]
  },
  {
   "cell_type": "code",
   "execution_count": null,
   "metadata": {},
   "outputs": [],
   "source": []
  }
 ],
 "metadata": {
  "kernelspec": {
   "display_name": "Python 2",
   "language": "python",
   "name": "python2"
  },
  "language_info": {
   "codemirror_mode": {
    "name": "ipython",
    "version": 2
   },
   "file_extension": ".py",
   "mimetype": "text/x-python",
   "name": "python",
   "nbconvert_exporter": "python",
   "pygments_lexer": "ipython2",
   "version": "2.7.15"
  }
 },
 "nbformat": 4,
 "nbformat_minor": 2
}
