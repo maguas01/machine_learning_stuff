{
 "cells": [
  {
   "cell_type": "markdown",
   "metadata": {},
   "source": [
    "## the abosute trick : \n",
    "\n",
    "$y = w_{1}x + w_{2}$ is the equation for the line were $w_{1}$ is the slope and $w_{2}$ is the y intercept the part of the line where y crosses the y axis. \n",
    "- if we add to  $w_{1}$ the slope increases or descrease, simalarly if we add to $w_{2}$ the y-intercept moves up and down i.e. the line move up and down. \n",
    "- if we have some point $(p,q)$ and wish to move the line close to it we : \n",
    "    1. add a small value $\\alpha$ to $w_{2}$ \n",
    "    2. add $p\\alpha$ to $w_{1}$\n",
    "    which in turn give us the new equation \n",
    "    $y = \\left(w_{1} + p\\alpha\\right) + (w_{2} + \\alpha)$"
   ]
  },
  {
   "cell_type": "markdown",
   "metadata": {},
   "source": [
    "## square trick \n",
    "\n",
    "$y = \\left(w_{1} + p(q-q')\\alpha\\right) + (w_{2} + (q-q')\\alpha) $ \n",
    "\n",
    "this basically moves the line faster towards the point q"
   ]
  },
  {
   "cell_type": "markdown",
   "metadata": {},
   "source": [
    "## gradient decent\n",
    "\n",
    "- take the $d/dw$ of the error function. the gradient points to the direction where the function increases the most therefore we take the negative of that and move a bit, that is $w_{i} -> w_{i}- \\alpha \\frac{\\delta}{\\delta w_{i}} Error$"
   ]
  },
  {
   "cell_type": "markdown",
   "metadata": {},
   "source": [
    "## error function : \n",
    " - mean absolute error, mean squared error \n",
    " \n",
    "![absmeanerror](img/abs_mean_error.png)\n",
    " \n",
    "![meansquareerror](img/mean_squared_error.png)\n",
    "\n",
    "we want to minimize the mean square error or the mean absolute eror "
   ]
  },
  {
   "cell_type": "code",
   "execution_count": 49,
   "metadata": {},
   "outputs": [],
   "source": [
    "# use bmi data to predict life expectacy of bmi 21.07931\n",
    "\n",
    "import pandas as pd\n",
    "import os\n",
    "from sklearn.linear_model import LinearRegression "
   ]
  },
  {
   "cell_type": "code",
   "execution_count": 62,
   "metadata": {},
   "outputs": [
    {
     "name": "stdout",
     "output_type": "stream",
     "text": [
      "<class 'pandas.core.frame.DataFrame'>\n",
      "RangeIndex: 163 entries, 0 to 162\n",
      "Data columns (total 3 columns):\n",
      "Country            163 non-null object\n",
      "Life expectancy    163 non-null float64\n",
      "BMI                163 non-null float64\n",
      "dtypes: float64(2), object(1)\n",
      "memory usage: 3.9+ KB\n"
     ]
    }
   ],
   "source": [
    "bmi_path = os.path.join(os.path.pardir, 'data', 'bmi_and_life_expectancy.csv')\n",
    "# csv did not have name you must give it names with names=['list', 'of','names']\n",
    "bmi_data = pd.read_csv(bmi_path)\n",
    "bmi_data.info()\n"
   ]
  },
  {
   "cell_type": "code",
   "execution_count": 69,
   "metadata": {},
   "outputs": [
    {
     "data": {
      "text/plain": [
       "LinearRegression(copy_X=True, fit_intercept=True, n_jobs=1, normalize=False)"
      ]
     },
     "execution_count": 69,
     "metadata": {},
     "output_type": "execute_result"
    }
   ],
   "source": [
    "lr_model = LinearRegression()\n",
    "#here since we are using one variable we must use reshape \n",
    "lr_model.fit(bmi_data.BMI.values.reshape(-1, 1), bmi_data['Life expectancy'])"
   ]
  },
  {
   "cell_type": "code",
   "execution_count": 70,
   "metadata": {},
   "outputs": [
    {
     "data": {
      "text/plain": [
       "array([60.31564716])"
      ]
     },
     "execution_count": 70,
     "metadata": {},
     "output_type": "execute_result"
    }
   ],
   "source": [
    "lr_model.predict(21.07931)"
   ]
  },
  {
   "cell_type": "markdown",
   "metadata": {},
   "source": [
    "## higher dimensions \n",
    "\n",
    "|   |$x_{1}$ | $x_{2}$|...|$x_{n}$ |$y^\\widehat{}$  |   \n",
    "|---|---|---|---|---|---| \n",
    "|   |size| school quality| ... | rooms | price|\n",
    "|$house_{1}$|900| 4 | ... | 10| 9,000,000|\n",
    "|$house_{n}$| 1000 | 7| $ ... $ | 11 | 11,000,000| \n",
    "\n",
    "n dimensional space prediction is a n-1 dimensional place\n",
    "\n",
    "$$ y^\\widehat{} = w_{1}x_{1} + ... + w_{n-1}x_{n-1} + w_{n} $$"
   ]
  },
  {
   "cell_type": "code",
   "execution_count": 99,
   "metadata": {},
   "outputs": [],
   "source": [
    "# use the housing data to predict the price\n",
    "# https://archive.ics.uci.edu/ml/machine-learning-databases/housing/housing.names\n",
    "import pandas as pd\n",
    "import os\n",
    "from sklearn.linear_model import LinearRegression \n",
    "from sklearn.metrics import accuracy_score, confusion_matrix, precision_score, recall_score"
   ]
  },
  {
   "cell_type": "code",
   "execution_count": 79,
   "metadata": {},
   "outputs": [],
   "source": [
    "housing_path = os.path.join(os.path.pardir, 'data', 'housing_data.csv')\n",
    "names = ['crim', 'zn', 'indus', 'chas', 'nox', 'rm', 'age', 'dist', 'rad', 'tax', 'ptratio', 'b', 'lstat', 'medv']\n",
    "#len(names)\n",
    "# we have a file that uses whitespace as a delimiter we use delim_whitespace=True\n",
    "# import data\n",
    "df = pd.read_csv(housing_path, names=names, delim_whitespace=True)\n",
    "#df.info()"
   ]
  },
  {
   "cell_type": "code",
   "execution_count": 104,
   "metadata": {},
   "outputs": [
    {
     "name": "stdout",
     "output_type": "stream",
     "text": [
      "<class 'pandas.core.frame.DataFrame'>\n",
      "RangeIndex: 506 entries, 0 to 505\n",
      "Data columns (total 13 columns):\n",
      "crim       506 non-null float64\n",
      "zn         506 non-null float64\n",
      "indus      506 non-null float64\n",
      "chas       506 non-null int64\n",
      "nox        506 non-null float64\n",
      "rm         506 non-null float64\n",
      "age        506 non-null float64\n",
      "dist       506 non-null float64\n",
      "rad        506 non-null int64\n",
      "tax        506 non-null float64\n",
      "ptratio    506 non-null float64\n",
      "b          506 non-null float64\n",
      "lstat      506 non-null float64\n",
      "dtypes: float64(11), int64(2)\n",
      "memory usage: 51.5 KB\n",
      "the score: 0.7406\n"
     ]
    }
   ],
   "source": [
    "#split the data\n",
    "# the y values \n",
    "df_price = df.loc[:,'medv']\n",
    "# x_i -> x_n values\n",
    "df_house_data = df.iloc[:,0:13]\n",
    "df_house_data.info()\n",
    "\n",
    "model = LinearRegression()\n",
    "model.fit(df_house_data, df_price)"
   ]
  },
  {
   "cell_type": "code",
   "execution_count": 105,
   "metadata": {},
   "outputs": [
    {
     "name": "stdout",
     "output_type": "stream",
     "text": [
      "the score: 0.7406\n"
     ]
    },
    {
     "data": {
      "text/plain": [
       "array([23.68284712])"
      ]
     },
     "execution_count": 105,
     "metadata": {},
     "output_type": "execute_result"
    }
   ],
   "source": [
    "print(\"the score: {0:.4f}\".format(model.score(df_house_data, df_price)) )\n",
    "# house prices to predict\n",
    "sample_house = [[2.29690000e-01, 0.00000000e+00, 1.05900000e+01, 0.00000000e+00, 4.89000000e-01,\n",
    "                6.32600000e+00, 5.25000000e+01, 4.35490000e+00, 4.00000000e+00, 2.77000000e+02,\n",
    "                1.86000000e+01, 3.94870000e+02, 1.09700000e+01]]\n",
    "model.predict(sample_house)"
   ]
  },
  {
   "cell_type": "markdown",
   "metadata": {},
   "source": [
    "### regulariztion : \n",
    "- l1: computationally inefficient, sparce outputs, feature selection\n",
    "- l2: computationally Efficient, non-sparce outputs, NO feature selection "
   ]
  },
  {
   "cell_type": "code",
   "execution_count": null,
   "metadata": {},
   "outputs": [],
   "source": []
  }
 ],
 "metadata": {
  "kernelspec": {
   "display_name": "Python 2",
   "language": "python",
   "name": "python2"
  },
  "language_info": {
   "codemirror_mode": {
    "name": "ipython",
    "version": 2
   },
   "file_extension": ".py",
   "mimetype": "text/x-python",
   "name": "python",
   "nbconvert_exporter": "python",
   "pygments_lexer": "ipython2",
   "version": "2.7.15"
  }
 },
 "nbformat": 4,
 "nbformat_minor": 2
}
